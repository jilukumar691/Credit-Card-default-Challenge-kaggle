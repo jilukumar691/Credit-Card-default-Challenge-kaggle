{
  "cells": [
    {
      "cell_type": "markdown",
      "metadata": {
        "id": "view-in-github",
        "colab_type": "text"
      },
      "source": [
        "<a href=\"https://colab.research.google.com/github/jilukumar691/Credit-Card-default-Challenge-kaggle/blob/main/Credit_card_Default_Analysis.ipynb\" target=\"_parent\"><img src=\"https://colab.research.google.com/assets/colab-badge.svg\" alt=\"Open In Colab\"/></a>"
      ]
    },
    {
      "cell_type": "markdown",
      "id": "9914a7ee",
      "metadata": {
        "id": "9914a7ee"
      },
      "source": [
        "## Credit card Default Analysis"
      ]
    },
    {
      "cell_type": "code",
      "execution_count": null,
      "id": "51477ef0",
      "metadata": {
        "id": "51477ef0"
      },
      "outputs": [],
      "source": [
        "import pandas as pd"
      ]
    },
    {
      "cell_type": "code",
      "source": [
        "df= pd.read_csv(\"/train.csv\")"
      ],
      "metadata": {
        "id": "V-6gnijxvJC-"
      },
      "execution_count": null,
      "outputs": [],
      "id": "V-6gnijxvJC-"
    },
    {
      "cell_type": "code",
      "execution_count": null,
      "id": "fa55c82d",
      "metadata": {
        "colab": {
          "base_uri": "https://localhost:8080/",
          "height": 305
        },
        "id": "fa55c82d",
        "outputId": "a5df6cdb-fd08-4df0-9690-c1fa8f773dc3"
      },
      "outputs": [
        {
          "output_type": "execute_result",
          "data": {
            "text/plain": [
              "  customer_id            name  age gender owns_car owns_house  no_of_children  \\\n",
              "0  CST_115179        ita Bose   46      F        N          Y             0.0   \n",
              "1  CST_121920  Alper Jonathan   29      M        N          Y             0.0   \n",
              "2  CST_109330     Umesh Desai   37      M        N          Y             0.0   \n",
              "3  CST_128288             Rie   39      F        N          Y             0.0   \n",
              "4  CST_151355          McCool   46      M        Y          Y             0.0   \n",
              "\n",
              "   net_yearly_income  no_of_days_employed occupation_type  \\\n",
              "0          107934.04                612.0         Unknown   \n",
              "1          109862.62               2771.0        Laborers   \n",
              "2          230153.17                204.0        Laborers   \n",
              "3          122325.82              11941.0      Core staff   \n",
              "4          387286.00               1459.0      Core staff   \n",
              "\n",
              "   total_family_members  migrant_worker  yearly_debt_payments  credit_limit  \\\n",
              "0                   1.0             1.0              33070.28      18690.93   \n",
              "1                   2.0             0.0              15329.53      37745.19   \n",
              "2                   2.0             0.0              48416.60      41598.36   \n",
              "3                   2.0             0.0              22574.36      32627.76   \n",
              "4                   1.0             0.0              38282.95      52950.64   \n",
              "\n",
              "   credit_limit_used(%)  credit_score  prev_defaults  default_in_last_6months  \\\n",
              "0                    73         544.0              2                        1   \n",
              "1                    52         857.0              0                        0   \n",
              "2                    43         650.0              0                        0   \n",
              "3                    20         754.0              0                        0   \n",
              "4                    75         927.0              0                        0   \n",
              "\n",
              "   credit_card_default  \n",
              "0                    1  \n",
              "1                    0  \n",
              "2                    0  \n",
              "3                    0  \n",
              "4                    0  "
            ],
            "text/html": [
              "\n",
              "  <div id=\"df-47c79a11-9a08-4227-9be9-a678b127ad01\">\n",
              "    <div class=\"colab-df-container\">\n",
              "      <div>\n",
              "<style scoped>\n",
              "    .dataframe tbody tr th:only-of-type {\n",
              "        vertical-align: middle;\n",
              "    }\n",
              "\n",
              "    .dataframe tbody tr th {\n",
              "        vertical-align: top;\n",
              "    }\n",
              "\n",
              "    .dataframe thead th {\n",
              "        text-align: right;\n",
              "    }\n",
              "</style>\n",
              "<table border=\"1\" class=\"dataframe\">\n",
              "  <thead>\n",
              "    <tr style=\"text-align: right;\">\n",
              "      <th></th>\n",
              "      <th>customer_id</th>\n",
              "      <th>name</th>\n",
              "      <th>age</th>\n",
              "      <th>gender</th>\n",
              "      <th>owns_car</th>\n",
              "      <th>owns_house</th>\n",
              "      <th>no_of_children</th>\n",
              "      <th>net_yearly_income</th>\n",
              "      <th>no_of_days_employed</th>\n",
              "      <th>occupation_type</th>\n",
              "      <th>total_family_members</th>\n",
              "      <th>migrant_worker</th>\n",
              "      <th>yearly_debt_payments</th>\n",
              "      <th>credit_limit</th>\n",
              "      <th>credit_limit_used(%)</th>\n",
              "      <th>credit_score</th>\n",
              "      <th>prev_defaults</th>\n",
              "      <th>default_in_last_6months</th>\n",
              "      <th>credit_card_default</th>\n",
              "    </tr>\n",
              "  </thead>\n",
              "  <tbody>\n",
              "    <tr>\n",
              "      <th>0</th>\n",
              "      <td>CST_115179</td>\n",
              "      <td>ita Bose</td>\n",
              "      <td>46</td>\n",
              "      <td>F</td>\n",
              "      <td>N</td>\n",
              "      <td>Y</td>\n",
              "      <td>0.0</td>\n",
              "      <td>107934.04</td>\n",
              "      <td>612.0</td>\n",
              "      <td>Unknown</td>\n",
              "      <td>1.0</td>\n",
              "      <td>1.0</td>\n",
              "      <td>33070.28</td>\n",
              "      <td>18690.93</td>\n",
              "      <td>73</td>\n",
              "      <td>544.0</td>\n",
              "      <td>2</td>\n",
              "      <td>1</td>\n",
              "      <td>1</td>\n",
              "    </tr>\n",
              "    <tr>\n",
              "      <th>1</th>\n",
              "      <td>CST_121920</td>\n",
              "      <td>Alper Jonathan</td>\n",
              "      <td>29</td>\n",
              "      <td>M</td>\n",
              "      <td>N</td>\n",
              "      <td>Y</td>\n",
              "      <td>0.0</td>\n",
              "      <td>109862.62</td>\n",
              "      <td>2771.0</td>\n",
              "      <td>Laborers</td>\n",
              "      <td>2.0</td>\n",
              "      <td>0.0</td>\n",
              "      <td>15329.53</td>\n",
              "      <td>37745.19</td>\n",
              "      <td>52</td>\n",
              "      <td>857.0</td>\n",
              "      <td>0</td>\n",
              "      <td>0</td>\n",
              "      <td>0</td>\n",
              "    </tr>\n",
              "    <tr>\n",
              "      <th>2</th>\n",
              "      <td>CST_109330</td>\n",
              "      <td>Umesh Desai</td>\n",
              "      <td>37</td>\n",
              "      <td>M</td>\n",
              "      <td>N</td>\n",
              "      <td>Y</td>\n",
              "      <td>0.0</td>\n",
              "      <td>230153.17</td>\n",
              "      <td>204.0</td>\n",
              "      <td>Laborers</td>\n",
              "      <td>2.0</td>\n",
              "      <td>0.0</td>\n",
              "      <td>48416.60</td>\n",
              "      <td>41598.36</td>\n",
              "      <td>43</td>\n",
              "      <td>650.0</td>\n",
              "      <td>0</td>\n",
              "      <td>0</td>\n",
              "      <td>0</td>\n",
              "    </tr>\n",
              "    <tr>\n",
              "      <th>3</th>\n",
              "      <td>CST_128288</td>\n",
              "      <td>Rie</td>\n",
              "      <td>39</td>\n",
              "      <td>F</td>\n",
              "      <td>N</td>\n",
              "      <td>Y</td>\n",
              "      <td>0.0</td>\n",
              "      <td>122325.82</td>\n",
              "      <td>11941.0</td>\n",
              "      <td>Core staff</td>\n",
              "      <td>2.0</td>\n",
              "      <td>0.0</td>\n",
              "      <td>22574.36</td>\n",
              "      <td>32627.76</td>\n",
              "      <td>20</td>\n",
              "      <td>754.0</td>\n",
              "      <td>0</td>\n",
              "      <td>0</td>\n",
              "      <td>0</td>\n",
              "    </tr>\n",
              "    <tr>\n",
              "      <th>4</th>\n",
              "      <td>CST_151355</td>\n",
              "      <td>McCool</td>\n",
              "      <td>46</td>\n",
              "      <td>M</td>\n",
              "      <td>Y</td>\n",
              "      <td>Y</td>\n",
              "      <td>0.0</td>\n",
              "      <td>387286.00</td>\n",
              "      <td>1459.0</td>\n",
              "      <td>Core staff</td>\n",
              "      <td>1.0</td>\n",
              "      <td>0.0</td>\n",
              "      <td>38282.95</td>\n",
              "      <td>52950.64</td>\n",
              "      <td>75</td>\n",
              "      <td>927.0</td>\n",
              "      <td>0</td>\n",
              "      <td>0</td>\n",
              "      <td>0</td>\n",
              "    </tr>\n",
              "  </tbody>\n",
              "</table>\n",
              "</div>\n",
              "      <button class=\"colab-df-convert\" onclick=\"convertToInteractive('df-47c79a11-9a08-4227-9be9-a678b127ad01')\"\n",
              "              title=\"Convert this dataframe to an interactive table.\"\n",
              "              style=\"display:none;\">\n",
              "        \n",
              "  <svg xmlns=\"http://www.w3.org/2000/svg\" height=\"24px\"viewBox=\"0 0 24 24\"\n",
              "       width=\"24px\">\n",
              "    <path d=\"M0 0h24v24H0V0z\" fill=\"none\"/>\n",
              "    <path d=\"M18.56 5.44l.94 2.06.94-2.06 2.06-.94-2.06-.94-.94-2.06-.94 2.06-2.06.94zm-11 1L8.5 8.5l.94-2.06 2.06-.94-2.06-.94L8.5 2.5l-.94 2.06-2.06.94zm10 10l.94 2.06.94-2.06 2.06-.94-2.06-.94-.94-2.06-.94 2.06-2.06.94z\"/><path d=\"M17.41 7.96l-1.37-1.37c-.4-.4-.92-.59-1.43-.59-.52 0-1.04.2-1.43.59L10.3 9.45l-7.72 7.72c-.78.78-.78 2.05 0 2.83L4 21.41c.39.39.9.59 1.41.59.51 0 1.02-.2 1.41-.59l7.78-7.78 2.81-2.81c.8-.78.8-2.07 0-2.86zM5.41 20L4 18.59l7.72-7.72 1.47 1.35L5.41 20z\"/>\n",
              "  </svg>\n",
              "      </button>\n",
              "      \n",
              "  <style>\n",
              "    .colab-df-container {\n",
              "      display:flex;\n",
              "      flex-wrap:wrap;\n",
              "      gap: 12px;\n",
              "    }\n",
              "\n",
              "    .colab-df-convert {\n",
              "      background-color: #E8F0FE;\n",
              "      border: none;\n",
              "      border-radius: 50%;\n",
              "      cursor: pointer;\n",
              "      display: none;\n",
              "      fill: #1967D2;\n",
              "      height: 32px;\n",
              "      padding: 0 0 0 0;\n",
              "      width: 32px;\n",
              "    }\n",
              "\n",
              "    .colab-df-convert:hover {\n",
              "      background-color: #E2EBFA;\n",
              "      box-shadow: 0px 1px 2px rgba(60, 64, 67, 0.3), 0px 1px 3px 1px rgba(60, 64, 67, 0.15);\n",
              "      fill: #174EA6;\n",
              "    }\n",
              "\n",
              "    [theme=dark] .colab-df-convert {\n",
              "      background-color: #3B4455;\n",
              "      fill: #D2E3FC;\n",
              "    }\n",
              "\n",
              "    [theme=dark] .colab-df-convert:hover {\n",
              "      background-color: #434B5C;\n",
              "      box-shadow: 0px 1px 3px 1px rgba(0, 0, 0, 0.15);\n",
              "      filter: drop-shadow(0px 1px 2px rgba(0, 0, 0, 0.3));\n",
              "      fill: #FFFFFF;\n",
              "    }\n",
              "  </style>\n",
              "\n",
              "      <script>\n",
              "        const buttonEl =\n",
              "          document.querySelector('#df-47c79a11-9a08-4227-9be9-a678b127ad01 button.colab-df-convert');\n",
              "        buttonEl.style.display =\n",
              "          google.colab.kernel.accessAllowed ? 'block' : 'none';\n",
              "\n",
              "        async function convertToInteractive(key) {\n",
              "          const element = document.querySelector('#df-47c79a11-9a08-4227-9be9-a678b127ad01');\n",
              "          const dataTable =\n",
              "            await google.colab.kernel.invokeFunction('convertToInteractive',\n",
              "                                                     [key], {});\n",
              "          if (!dataTable) return;\n",
              "\n",
              "          const docLinkHtml = 'Like what you see? Visit the ' +\n",
              "            '<a target=\"_blank\" href=https://colab.research.google.com/notebooks/data_table.ipynb>data table notebook</a>'\n",
              "            + ' to learn more about interactive tables.';\n",
              "          element.innerHTML = '';\n",
              "          dataTable['output_type'] = 'display_data';\n",
              "          await google.colab.output.renderOutput(dataTable, element);\n",
              "          const docLink = document.createElement('div');\n",
              "          docLink.innerHTML = docLinkHtml;\n",
              "          element.appendChild(docLink);\n",
              "        }\n",
              "      </script>\n",
              "    </div>\n",
              "  </div>\n",
              "  "
            ]
          },
          "metadata": {},
          "execution_count": 4
        }
      ],
      "source": [
        "df.head()"
      ]
    },
    {
      "cell_type": "code",
      "execution_count": null,
      "id": "921e1c6a",
      "metadata": {
        "colab": {
          "base_uri": "https://localhost:8080/"
        },
        "id": "921e1c6a",
        "outputId": "b0eb36b6-f84d-438c-825c-f886fc08847c"
      },
      "outputs": [
        {
          "output_type": "stream",
          "name": "stdout",
          "text": [
            "<class 'pandas.core.frame.DataFrame'>\n",
            "RangeIndex: 45528 entries, 0 to 45527\n",
            "Data columns (total 19 columns):\n",
            " #   Column                   Non-Null Count  Dtype  \n",
            "---  ------                   --------------  -----  \n",
            " 0   customer_id              45528 non-null  object \n",
            " 1   name                     45528 non-null  object \n",
            " 2   age                      45528 non-null  int64  \n",
            " 3   gender                   45528 non-null  object \n",
            " 4   owns_car                 44981 non-null  object \n",
            " 5   owns_house               45528 non-null  object \n",
            " 6   no_of_children           44754 non-null  float64\n",
            " 7   net_yearly_income        45528 non-null  float64\n",
            " 8   no_of_days_employed      45065 non-null  float64\n",
            " 9   occupation_type          45528 non-null  object \n",
            " 10  total_family_members     45445 non-null  float64\n",
            " 11  migrant_worker           45441 non-null  float64\n",
            " 12  yearly_debt_payments     45433 non-null  float64\n",
            " 13  credit_limit             45528 non-null  float64\n",
            " 14  credit_limit_used(%)     45528 non-null  int64  \n",
            " 15  credit_score             45520 non-null  float64\n",
            " 16  prev_defaults            45528 non-null  int64  \n",
            " 17  default_in_last_6months  45528 non-null  int64  \n",
            " 18  credit_card_default      45528 non-null  int64  \n",
            "dtypes: float64(8), int64(5), object(6)\n",
            "memory usage: 6.6+ MB\n"
          ]
        }
      ],
      "source": [
        "df.info()"
      ]
    },
    {
      "cell_type": "code",
      "execution_count": null,
      "id": "e047fcd9",
      "metadata": {
        "colab": {
          "base_uri": "https://localhost:8080/",
          "height": 364
        },
        "id": "e047fcd9",
        "outputId": "9f931f31-9252-4a8e-b243-5123dd70795e"
      },
      "outputs": [
        {
          "output_type": "execute_result",
          "data": {
            "text/plain": [
              "                age  no_of_children  net_yearly_income  no_of_days_employed  \\\n",
              "count  45528.000000    44754.000000       4.552800e+04         45065.000000   \n",
              "mean      38.993411        0.420655       2.006556e+05         67609.289293   \n",
              "std        9.543990        0.724097       6.690740e+05        139323.524434   \n",
              "min       23.000000        0.000000       2.717061e+04             2.000000   \n",
              "25%       31.000000        0.000000       1.263458e+05           936.000000   \n",
              "50%       39.000000        0.000000       1.717149e+05          2224.000000   \n",
              "75%       47.000000        1.000000       2.406038e+05          5817.000000   \n",
              "max       55.000000        9.000000       1.407590e+08        365252.000000   \n",
              "\n",
              "       total_family_members  migrant_worker  yearly_debt_payments  \\\n",
              "count          45445.000000    45441.000000          45433.000000   \n",
              "mean               2.158081        0.179111          31796.965311   \n",
              "std                0.911572        0.383450          17269.727234   \n",
              "min                1.000000        0.000000           2237.470000   \n",
              "25%                2.000000        0.000000          19231.140000   \n",
              "50%                2.000000        0.000000          29081.650000   \n",
              "75%                3.000000        0.000000          40561.150000   \n",
              "max               10.000000        1.000000         328112.860000   \n",
              "\n",
              "       credit_limit  credit_limit_used(%)  credit_score  prev_defaults  \\\n",
              "count  4.552800e+04           45528.00000  45520.000000   45528.000000   \n",
              "mean   4.354842e+04              52.23502    782.791257       0.060710   \n",
              "std    1.487847e+05              29.37691    100.619746       0.264629   \n",
              "min    4.003140e+03               0.00000    500.000000       0.000000   \n",
              "25%    2.397381e+04              27.00000    704.000000       0.000000   \n",
              "50%    3.568804e+04              54.00000    786.000000       0.000000   \n",
              "75%    5.343576e+04              78.00000    867.000000       0.000000   \n",
              "max    3.112997e+07              99.00000    949.000000       2.000000   \n",
              "\n",
              "       default_in_last_6months  credit_card_default  \n",
              "count             45528.000000         45528.000000  \n",
              "mean                  0.050540             0.081203  \n",
              "std                   0.219059             0.273149  \n",
              "min                   0.000000             0.000000  \n",
              "25%                   0.000000             0.000000  \n",
              "50%                   0.000000             0.000000  \n",
              "75%                   0.000000             0.000000  \n",
              "max                   1.000000             1.000000  "
            ],
            "text/html": [
              "\n",
              "  <div id=\"df-55443b56-f806-45a1-8781-9beeed068c17\">\n",
              "    <div class=\"colab-df-container\">\n",
              "      <div>\n",
              "<style scoped>\n",
              "    .dataframe tbody tr th:only-of-type {\n",
              "        vertical-align: middle;\n",
              "    }\n",
              "\n",
              "    .dataframe tbody tr th {\n",
              "        vertical-align: top;\n",
              "    }\n",
              "\n",
              "    .dataframe thead th {\n",
              "        text-align: right;\n",
              "    }\n",
              "</style>\n",
              "<table border=\"1\" class=\"dataframe\">\n",
              "  <thead>\n",
              "    <tr style=\"text-align: right;\">\n",
              "      <th></th>\n",
              "      <th>age</th>\n",
              "      <th>no_of_children</th>\n",
              "      <th>net_yearly_income</th>\n",
              "      <th>no_of_days_employed</th>\n",
              "      <th>total_family_members</th>\n",
              "      <th>migrant_worker</th>\n",
              "      <th>yearly_debt_payments</th>\n",
              "      <th>credit_limit</th>\n",
              "      <th>credit_limit_used(%)</th>\n",
              "      <th>credit_score</th>\n",
              "      <th>prev_defaults</th>\n",
              "      <th>default_in_last_6months</th>\n",
              "      <th>credit_card_default</th>\n",
              "    </tr>\n",
              "  </thead>\n",
              "  <tbody>\n",
              "    <tr>\n",
              "      <th>count</th>\n",
              "      <td>45528.000000</td>\n",
              "      <td>44754.000000</td>\n",
              "      <td>4.552800e+04</td>\n",
              "      <td>45065.000000</td>\n",
              "      <td>45445.000000</td>\n",
              "      <td>45441.000000</td>\n",
              "      <td>45433.000000</td>\n",
              "      <td>4.552800e+04</td>\n",
              "      <td>45528.00000</td>\n",
              "      <td>45520.000000</td>\n",
              "      <td>45528.000000</td>\n",
              "      <td>45528.000000</td>\n",
              "      <td>45528.000000</td>\n",
              "    </tr>\n",
              "    <tr>\n",
              "      <th>mean</th>\n",
              "      <td>38.993411</td>\n",
              "      <td>0.420655</td>\n",
              "      <td>2.006556e+05</td>\n",
              "      <td>67609.289293</td>\n",
              "      <td>2.158081</td>\n",
              "      <td>0.179111</td>\n",
              "      <td>31796.965311</td>\n",
              "      <td>4.354842e+04</td>\n",
              "      <td>52.23502</td>\n",
              "      <td>782.791257</td>\n",
              "      <td>0.060710</td>\n",
              "      <td>0.050540</td>\n",
              "      <td>0.081203</td>\n",
              "    </tr>\n",
              "    <tr>\n",
              "      <th>std</th>\n",
              "      <td>9.543990</td>\n",
              "      <td>0.724097</td>\n",
              "      <td>6.690740e+05</td>\n",
              "      <td>139323.524434</td>\n",
              "      <td>0.911572</td>\n",
              "      <td>0.383450</td>\n",
              "      <td>17269.727234</td>\n",
              "      <td>1.487847e+05</td>\n",
              "      <td>29.37691</td>\n",
              "      <td>100.619746</td>\n",
              "      <td>0.264629</td>\n",
              "      <td>0.219059</td>\n",
              "      <td>0.273149</td>\n",
              "    </tr>\n",
              "    <tr>\n",
              "      <th>min</th>\n",
              "      <td>23.000000</td>\n",
              "      <td>0.000000</td>\n",
              "      <td>2.717061e+04</td>\n",
              "      <td>2.000000</td>\n",
              "      <td>1.000000</td>\n",
              "      <td>0.000000</td>\n",
              "      <td>2237.470000</td>\n",
              "      <td>4.003140e+03</td>\n",
              "      <td>0.00000</td>\n",
              "      <td>500.000000</td>\n",
              "      <td>0.000000</td>\n",
              "      <td>0.000000</td>\n",
              "      <td>0.000000</td>\n",
              "    </tr>\n",
              "    <tr>\n",
              "      <th>25%</th>\n",
              "      <td>31.000000</td>\n",
              "      <td>0.000000</td>\n",
              "      <td>1.263458e+05</td>\n",
              "      <td>936.000000</td>\n",
              "      <td>2.000000</td>\n",
              "      <td>0.000000</td>\n",
              "      <td>19231.140000</td>\n",
              "      <td>2.397381e+04</td>\n",
              "      <td>27.00000</td>\n",
              "      <td>704.000000</td>\n",
              "      <td>0.000000</td>\n",
              "      <td>0.000000</td>\n",
              "      <td>0.000000</td>\n",
              "    </tr>\n",
              "    <tr>\n",
              "      <th>50%</th>\n",
              "      <td>39.000000</td>\n",
              "      <td>0.000000</td>\n",
              "      <td>1.717149e+05</td>\n",
              "      <td>2224.000000</td>\n",
              "      <td>2.000000</td>\n",
              "      <td>0.000000</td>\n",
              "      <td>29081.650000</td>\n",
              "      <td>3.568804e+04</td>\n",
              "      <td>54.00000</td>\n",
              "      <td>786.000000</td>\n",
              "      <td>0.000000</td>\n",
              "      <td>0.000000</td>\n",
              "      <td>0.000000</td>\n",
              "    </tr>\n",
              "    <tr>\n",
              "      <th>75%</th>\n",
              "      <td>47.000000</td>\n",
              "      <td>1.000000</td>\n",
              "      <td>2.406038e+05</td>\n",
              "      <td>5817.000000</td>\n",
              "      <td>3.000000</td>\n",
              "      <td>0.000000</td>\n",
              "      <td>40561.150000</td>\n",
              "      <td>5.343576e+04</td>\n",
              "      <td>78.00000</td>\n",
              "      <td>867.000000</td>\n",
              "      <td>0.000000</td>\n",
              "      <td>0.000000</td>\n",
              "      <td>0.000000</td>\n",
              "    </tr>\n",
              "    <tr>\n",
              "      <th>max</th>\n",
              "      <td>55.000000</td>\n",
              "      <td>9.000000</td>\n",
              "      <td>1.407590e+08</td>\n",
              "      <td>365252.000000</td>\n",
              "      <td>10.000000</td>\n",
              "      <td>1.000000</td>\n",
              "      <td>328112.860000</td>\n",
              "      <td>3.112997e+07</td>\n",
              "      <td>99.00000</td>\n",
              "      <td>949.000000</td>\n",
              "      <td>2.000000</td>\n",
              "      <td>1.000000</td>\n",
              "      <td>1.000000</td>\n",
              "    </tr>\n",
              "  </tbody>\n",
              "</table>\n",
              "</div>\n",
              "      <button class=\"colab-df-convert\" onclick=\"convertToInteractive('df-55443b56-f806-45a1-8781-9beeed068c17')\"\n",
              "              title=\"Convert this dataframe to an interactive table.\"\n",
              "              style=\"display:none;\">\n",
              "        \n",
              "  <svg xmlns=\"http://www.w3.org/2000/svg\" height=\"24px\"viewBox=\"0 0 24 24\"\n",
              "       width=\"24px\">\n",
              "    <path d=\"M0 0h24v24H0V0z\" fill=\"none\"/>\n",
              "    <path d=\"M18.56 5.44l.94 2.06.94-2.06 2.06-.94-2.06-.94-.94-2.06-.94 2.06-2.06.94zm-11 1L8.5 8.5l.94-2.06 2.06-.94-2.06-.94L8.5 2.5l-.94 2.06-2.06.94zm10 10l.94 2.06.94-2.06 2.06-.94-2.06-.94-.94-2.06-.94 2.06-2.06.94z\"/><path d=\"M17.41 7.96l-1.37-1.37c-.4-.4-.92-.59-1.43-.59-.52 0-1.04.2-1.43.59L10.3 9.45l-7.72 7.72c-.78.78-.78 2.05 0 2.83L4 21.41c.39.39.9.59 1.41.59.51 0 1.02-.2 1.41-.59l7.78-7.78 2.81-2.81c.8-.78.8-2.07 0-2.86zM5.41 20L4 18.59l7.72-7.72 1.47 1.35L5.41 20z\"/>\n",
              "  </svg>\n",
              "      </button>\n",
              "      \n",
              "  <style>\n",
              "    .colab-df-container {\n",
              "      display:flex;\n",
              "      flex-wrap:wrap;\n",
              "      gap: 12px;\n",
              "    }\n",
              "\n",
              "    .colab-df-convert {\n",
              "      background-color: #E8F0FE;\n",
              "      border: none;\n",
              "      border-radius: 50%;\n",
              "      cursor: pointer;\n",
              "      display: none;\n",
              "      fill: #1967D2;\n",
              "      height: 32px;\n",
              "      padding: 0 0 0 0;\n",
              "      width: 32px;\n",
              "    }\n",
              "\n",
              "    .colab-df-convert:hover {\n",
              "      background-color: #E2EBFA;\n",
              "      box-shadow: 0px 1px 2px rgba(60, 64, 67, 0.3), 0px 1px 3px 1px rgba(60, 64, 67, 0.15);\n",
              "      fill: #174EA6;\n",
              "    }\n",
              "\n",
              "    [theme=dark] .colab-df-convert {\n",
              "      background-color: #3B4455;\n",
              "      fill: #D2E3FC;\n",
              "    }\n",
              "\n",
              "    [theme=dark] .colab-df-convert:hover {\n",
              "      background-color: #434B5C;\n",
              "      box-shadow: 0px 1px 3px 1px rgba(0, 0, 0, 0.15);\n",
              "      filter: drop-shadow(0px 1px 2px rgba(0, 0, 0, 0.3));\n",
              "      fill: #FFFFFF;\n",
              "    }\n",
              "  </style>\n",
              "\n",
              "      <script>\n",
              "        const buttonEl =\n",
              "          document.querySelector('#df-55443b56-f806-45a1-8781-9beeed068c17 button.colab-df-convert');\n",
              "        buttonEl.style.display =\n",
              "          google.colab.kernel.accessAllowed ? 'block' : 'none';\n",
              "\n",
              "        async function convertToInteractive(key) {\n",
              "          const element = document.querySelector('#df-55443b56-f806-45a1-8781-9beeed068c17');\n",
              "          const dataTable =\n",
              "            await google.colab.kernel.invokeFunction('convertToInteractive',\n",
              "                                                     [key], {});\n",
              "          if (!dataTable) return;\n",
              "\n",
              "          const docLinkHtml = 'Like what you see? Visit the ' +\n",
              "            '<a target=\"_blank\" href=https://colab.research.google.com/notebooks/data_table.ipynb>data table notebook</a>'\n",
              "            + ' to learn more about interactive tables.';\n",
              "          element.innerHTML = '';\n",
              "          dataTable['output_type'] = 'display_data';\n",
              "          await google.colab.output.renderOutput(dataTable, element);\n",
              "          const docLink = document.createElement('div');\n",
              "          docLink.innerHTML = docLinkHtml;\n",
              "          element.appendChild(docLink);\n",
              "        }\n",
              "      </script>\n",
              "    </div>\n",
              "  </div>\n",
              "  "
            ]
          },
          "metadata": {},
          "execution_count": 6
        }
      ],
      "source": [
        "df.describe()"
      ]
    },
    {
      "cell_type": "code",
      "execution_count": null,
      "id": "b45129a7",
      "metadata": {
        "id": "b45129a7",
        "outputId": "c5c61643-63b8-4e56-a714-4e82d6a664bf",
        "colab": {
          "base_uri": "https://localhost:8080/",
          "height": 488
        }
      },
      "outputs": [
        {
          "output_type": "execute_result",
          "data": {
            "text/plain": [
              "       age  no_of_children  net_yearly_income  no_of_days_employed  \\\n",
              "0       46             0.0          107934.04                612.0   \n",
              "1       29             0.0          109862.62               2771.0   \n",
              "2       37             0.0          230153.17                204.0   \n",
              "3       39             0.0          122325.82              11941.0   \n",
              "4       46             0.0          387286.00               1459.0   \n",
              "...    ...             ...                ...                  ...   \n",
              "45523   55             2.0           96207.57                117.0   \n",
              "45524   31             0.0          383476.74                966.0   \n",
              "45525   27             0.0          260052.18               1420.0   \n",
              "45526   32             0.0          157363.04               2457.0   \n",
              "45527   38             1.0          316896.28               1210.0   \n",
              "\n",
              "       total_family_members  migrant_worker  yearly_debt_payments  \\\n",
              "0                       1.0             1.0              33070.28   \n",
              "1                       2.0             0.0              15329.53   \n",
              "2                       2.0             0.0              48416.60   \n",
              "3                       2.0             0.0              22574.36   \n",
              "4                       1.0             0.0              38282.95   \n",
              "...                     ...             ...                   ...   \n",
              "45523                   4.0             0.0              11229.54   \n",
              "45524                   2.0             1.0              43369.91   \n",
              "45525                   2.0             0.0              22707.51   \n",
              "45526                   2.0             0.0              20150.10   \n",
              "45527                   3.0             0.0              34603.78   \n",
              "\n",
              "       credit_limit  credit_limit_used(%)  credit_score  prev_defaults  \\\n",
              "0          18690.93                    73         544.0              2   \n",
              "1          37745.19                    52         857.0              0   \n",
              "2          41598.36                    43         650.0              0   \n",
              "3          32627.76                    20         754.0              0   \n",
              "4          52950.64                    75         927.0              0   \n",
              "...             ...                   ...           ...            ...   \n",
              "45523      29663.83                    82         907.0              0   \n",
              "45524     139947.16                    32         679.0              0   \n",
              "45525      83961.83                    46         727.0              0   \n",
              "45526      25538.72                    92         805.0              0   \n",
              "45527      36630.76                    26         682.0              0   \n",
              "\n",
              "       default_in_last_6months  credit_card_default  \n",
              "0                            1                    1  \n",
              "1                            0                    0  \n",
              "2                            0                    0  \n",
              "3                            0                    0  \n",
              "4                            0                    0  \n",
              "...                        ...                  ...  \n",
              "45523                        0                    0  \n",
              "45524                        0                    0  \n",
              "45525                        0                    0  \n",
              "45526                        0                    0  \n",
              "45527                        0                    0  \n",
              "\n",
              "[45528 rows x 13 columns]"
            ],
            "text/html": [
              "\n",
              "  <div id=\"df-5863419b-c466-4602-9c07-12c16a151dba\">\n",
              "    <div class=\"colab-df-container\">\n",
              "      <div>\n",
              "<style scoped>\n",
              "    .dataframe tbody tr th:only-of-type {\n",
              "        vertical-align: middle;\n",
              "    }\n",
              "\n",
              "    .dataframe tbody tr th {\n",
              "        vertical-align: top;\n",
              "    }\n",
              "\n",
              "    .dataframe thead th {\n",
              "        text-align: right;\n",
              "    }\n",
              "</style>\n",
              "<table border=\"1\" class=\"dataframe\">\n",
              "  <thead>\n",
              "    <tr style=\"text-align: right;\">\n",
              "      <th></th>\n",
              "      <th>age</th>\n",
              "      <th>no_of_children</th>\n",
              "      <th>net_yearly_income</th>\n",
              "      <th>no_of_days_employed</th>\n",
              "      <th>total_family_members</th>\n",
              "      <th>migrant_worker</th>\n",
              "      <th>yearly_debt_payments</th>\n",
              "      <th>credit_limit</th>\n",
              "      <th>credit_limit_used(%)</th>\n",
              "      <th>credit_score</th>\n",
              "      <th>prev_defaults</th>\n",
              "      <th>default_in_last_6months</th>\n",
              "      <th>credit_card_default</th>\n",
              "    </tr>\n",
              "  </thead>\n",
              "  <tbody>\n",
              "    <tr>\n",
              "      <th>0</th>\n",
              "      <td>46</td>\n",
              "      <td>0.0</td>\n",
              "      <td>107934.04</td>\n",
              "      <td>612.0</td>\n",
              "      <td>1.0</td>\n",
              "      <td>1.0</td>\n",
              "      <td>33070.28</td>\n",
              "      <td>18690.93</td>\n",
              "      <td>73</td>\n",
              "      <td>544.0</td>\n",
              "      <td>2</td>\n",
              "      <td>1</td>\n",
              "      <td>1</td>\n",
              "    </tr>\n",
              "    <tr>\n",
              "      <th>1</th>\n",
              "      <td>29</td>\n",
              "      <td>0.0</td>\n",
              "      <td>109862.62</td>\n",
              "      <td>2771.0</td>\n",
              "      <td>2.0</td>\n",
              "      <td>0.0</td>\n",
              "      <td>15329.53</td>\n",
              "      <td>37745.19</td>\n",
              "      <td>52</td>\n",
              "      <td>857.0</td>\n",
              "      <td>0</td>\n",
              "      <td>0</td>\n",
              "      <td>0</td>\n",
              "    </tr>\n",
              "    <tr>\n",
              "      <th>2</th>\n",
              "      <td>37</td>\n",
              "      <td>0.0</td>\n",
              "      <td>230153.17</td>\n",
              "      <td>204.0</td>\n",
              "      <td>2.0</td>\n",
              "      <td>0.0</td>\n",
              "      <td>48416.60</td>\n",
              "      <td>41598.36</td>\n",
              "      <td>43</td>\n",
              "      <td>650.0</td>\n",
              "      <td>0</td>\n",
              "      <td>0</td>\n",
              "      <td>0</td>\n",
              "    </tr>\n",
              "    <tr>\n",
              "      <th>3</th>\n",
              "      <td>39</td>\n",
              "      <td>0.0</td>\n",
              "      <td>122325.82</td>\n",
              "      <td>11941.0</td>\n",
              "      <td>2.0</td>\n",
              "      <td>0.0</td>\n",
              "      <td>22574.36</td>\n",
              "      <td>32627.76</td>\n",
              "      <td>20</td>\n",
              "      <td>754.0</td>\n",
              "      <td>0</td>\n",
              "      <td>0</td>\n",
              "      <td>0</td>\n",
              "    </tr>\n",
              "    <tr>\n",
              "      <th>4</th>\n",
              "      <td>46</td>\n",
              "      <td>0.0</td>\n",
              "      <td>387286.00</td>\n",
              "      <td>1459.0</td>\n",
              "      <td>1.0</td>\n",
              "      <td>0.0</td>\n",
              "      <td>38282.95</td>\n",
              "      <td>52950.64</td>\n",
              "      <td>75</td>\n",
              "      <td>927.0</td>\n",
              "      <td>0</td>\n",
              "      <td>0</td>\n",
              "      <td>0</td>\n",
              "    </tr>\n",
              "    <tr>\n",
              "      <th>...</th>\n",
              "      <td>...</td>\n",
              "      <td>...</td>\n",
              "      <td>...</td>\n",
              "      <td>...</td>\n",
              "      <td>...</td>\n",
              "      <td>...</td>\n",
              "      <td>...</td>\n",
              "      <td>...</td>\n",
              "      <td>...</td>\n",
              "      <td>...</td>\n",
              "      <td>...</td>\n",
              "      <td>...</td>\n",
              "      <td>...</td>\n",
              "    </tr>\n",
              "    <tr>\n",
              "      <th>45523</th>\n",
              "      <td>55</td>\n",
              "      <td>2.0</td>\n",
              "      <td>96207.57</td>\n",
              "      <td>117.0</td>\n",
              "      <td>4.0</td>\n",
              "      <td>0.0</td>\n",
              "      <td>11229.54</td>\n",
              "      <td>29663.83</td>\n",
              "      <td>82</td>\n",
              "      <td>907.0</td>\n",
              "      <td>0</td>\n",
              "      <td>0</td>\n",
              "      <td>0</td>\n",
              "    </tr>\n",
              "    <tr>\n",
              "      <th>45524</th>\n",
              "      <td>31</td>\n",
              "      <td>0.0</td>\n",
              "      <td>383476.74</td>\n",
              "      <td>966.0</td>\n",
              "      <td>2.0</td>\n",
              "      <td>1.0</td>\n",
              "      <td>43369.91</td>\n",
              "      <td>139947.16</td>\n",
              "      <td>32</td>\n",
              "      <td>679.0</td>\n",
              "      <td>0</td>\n",
              "      <td>0</td>\n",
              "      <td>0</td>\n",
              "    </tr>\n",
              "    <tr>\n",
              "      <th>45525</th>\n",
              "      <td>27</td>\n",
              "      <td>0.0</td>\n",
              "      <td>260052.18</td>\n",
              "      <td>1420.0</td>\n",
              "      <td>2.0</td>\n",
              "      <td>0.0</td>\n",
              "      <td>22707.51</td>\n",
              "      <td>83961.83</td>\n",
              "      <td>46</td>\n",
              "      <td>727.0</td>\n",
              "      <td>0</td>\n",
              "      <td>0</td>\n",
              "      <td>0</td>\n",
              "    </tr>\n",
              "    <tr>\n",
              "      <th>45526</th>\n",
              "      <td>32</td>\n",
              "      <td>0.0</td>\n",
              "      <td>157363.04</td>\n",
              "      <td>2457.0</td>\n",
              "      <td>2.0</td>\n",
              "      <td>0.0</td>\n",
              "      <td>20150.10</td>\n",
              "      <td>25538.72</td>\n",
              "      <td>92</td>\n",
              "      <td>805.0</td>\n",
              "      <td>0</td>\n",
              "      <td>0</td>\n",
              "      <td>0</td>\n",
              "    </tr>\n",
              "    <tr>\n",
              "      <th>45527</th>\n",
              "      <td>38</td>\n",
              "      <td>1.0</td>\n",
              "      <td>316896.28</td>\n",
              "      <td>1210.0</td>\n",
              "      <td>3.0</td>\n",
              "      <td>0.0</td>\n",
              "      <td>34603.78</td>\n",
              "      <td>36630.76</td>\n",
              "      <td>26</td>\n",
              "      <td>682.0</td>\n",
              "      <td>0</td>\n",
              "      <td>0</td>\n",
              "      <td>0</td>\n",
              "    </tr>\n",
              "  </tbody>\n",
              "</table>\n",
              "<p>45528 rows × 13 columns</p>\n",
              "</div>\n",
              "      <button class=\"colab-df-convert\" onclick=\"convertToInteractive('df-5863419b-c466-4602-9c07-12c16a151dba')\"\n",
              "              title=\"Convert this dataframe to an interactive table.\"\n",
              "              style=\"display:none;\">\n",
              "        \n",
              "  <svg xmlns=\"http://www.w3.org/2000/svg\" height=\"24px\"viewBox=\"0 0 24 24\"\n",
              "       width=\"24px\">\n",
              "    <path d=\"M0 0h24v24H0V0z\" fill=\"none\"/>\n",
              "    <path d=\"M18.56 5.44l.94 2.06.94-2.06 2.06-.94-2.06-.94-.94-2.06-.94 2.06-2.06.94zm-11 1L8.5 8.5l.94-2.06 2.06-.94-2.06-.94L8.5 2.5l-.94 2.06-2.06.94zm10 10l.94 2.06.94-2.06 2.06-.94-2.06-.94-.94-2.06-.94 2.06-2.06.94z\"/><path d=\"M17.41 7.96l-1.37-1.37c-.4-.4-.92-.59-1.43-.59-.52 0-1.04.2-1.43.59L10.3 9.45l-7.72 7.72c-.78.78-.78 2.05 0 2.83L4 21.41c.39.39.9.59 1.41.59.51 0 1.02-.2 1.41-.59l7.78-7.78 2.81-2.81c.8-.78.8-2.07 0-2.86zM5.41 20L4 18.59l7.72-7.72 1.47 1.35L5.41 20z\"/>\n",
              "  </svg>\n",
              "      </button>\n",
              "      \n",
              "  <style>\n",
              "    .colab-df-container {\n",
              "      display:flex;\n",
              "      flex-wrap:wrap;\n",
              "      gap: 12px;\n",
              "    }\n",
              "\n",
              "    .colab-df-convert {\n",
              "      background-color: #E8F0FE;\n",
              "      border: none;\n",
              "      border-radius: 50%;\n",
              "      cursor: pointer;\n",
              "      display: none;\n",
              "      fill: #1967D2;\n",
              "      height: 32px;\n",
              "      padding: 0 0 0 0;\n",
              "      width: 32px;\n",
              "    }\n",
              "\n",
              "    .colab-df-convert:hover {\n",
              "      background-color: #E2EBFA;\n",
              "      box-shadow: 0px 1px 2px rgba(60, 64, 67, 0.3), 0px 1px 3px 1px rgba(60, 64, 67, 0.15);\n",
              "      fill: #174EA6;\n",
              "    }\n",
              "\n",
              "    [theme=dark] .colab-df-convert {\n",
              "      background-color: #3B4455;\n",
              "      fill: #D2E3FC;\n",
              "    }\n",
              "\n",
              "    [theme=dark] .colab-df-convert:hover {\n",
              "      background-color: #434B5C;\n",
              "      box-shadow: 0px 1px 3px 1px rgba(0, 0, 0, 0.15);\n",
              "      filter: drop-shadow(0px 1px 2px rgba(0, 0, 0, 0.3));\n",
              "      fill: #FFFFFF;\n",
              "    }\n",
              "  </style>\n",
              "\n",
              "      <script>\n",
              "        const buttonEl =\n",
              "          document.querySelector('#df-5863419b-c466-4602-9c07-12c16a151dba button.colab-df-convert');\n",
              "        buttonEl.style.display =\n",
              "          google.colab.kernel.accessAllowed ? 'block' : 'none';\n",
              "\n",
              "        async function convertToInteractive(key) {\n",
              "          const element = document.querySelector('#df-5863419b-c466-4602-9c07-12c16a151dba');\n",
              "          const dataTable =\n",
              "            await google.colab.kernel.invokeFunction('convertToInteractive',\n",
              "                                                     [key], {});\n",
              "          if (!dataTable) return;\n",
              "\n",
              "          const docLinkHtml = 'Like what you see? Visit the ' +\n",
              "            '<a target=\"_blank\" href=https://colab.research.google.com/notebooks/data_table.ipynb>data table notebook</a>'\n",
              "            + ' to learn more about interactive tables.';\n",
              "          element.innerHTML = '';\n",
              "          dataTable['output_type'] = 'display_data';\n",
              "          await google.colab.output.renderOutput(dataTable, element);\n",
              "          const docLink = document.createElement('div');\n",
              "          docLink.innerHTML = docLinkHtml;\n",
              "          element.appendChild(docLink);\n",
              "        }\n",
              "      </script>\n",
              "    </div>\n",
              "  </div>\n",
              "  "
            ]
          },
          "metadata": {},
          "execution_count": 7
        }
      ],
      "source": [
        "df_numonly=df[['age','no_of_children','net_yearly_income','no_of_days_employed','total_family_members','migrant_worker','yearly_debt_payments','credit_limit','credit_limit_used(%)','credit_score','prev_defaults','default_in_last_6months','credit_card_default']]\n",
        "df_numonly"
      ]
    },
    {
      "cell_type": "code",
      "execution_count": null,
      "id": "5100f88b",
      "metadata": {
        "id": "5100f88b"
      },
      "outputs": [],
      "source": [
        "%matplotlib inline"
      ]
    },
    {
      "cell_type": "code",
      "execution_count": null,
      "id": "f3c9afbd",
      "metadata": {
        "id": "f3c9afbd"
      },
      "outputs": [],
      "source": [
        "import matplotlib.pyplot as plt"
      ]
    },
    {
      "cell_type": "code",
      "execution_count": null,
      "id": "1956d100",
      "metadata": {
        "id": "1956d100"
      },
      "outputs": [],
      "source": [
        "#df.hist(bins=50, figsize=(20,15)) ,#this is used for plotting histogram"
      ]
    },
    {
      "cell_type": "markdown",
      "id": "d0a92ae4",
      "metadata": {
        "id": "d0a92ae4"
      },
      "source": [
        "## Train-Test Splitting"
      ]
    },
    {
      "cell_type": "code",
      "execution_count": null,
      "id": "3471c2b9",
      "metadata": {
        "id": "3471c2b9"
      },
      "outputs": [],
      "source": [
        "from sklearn.model_selection import train_test_split"
      ]
    },
    {
      "cell_type": "code",
      "execution_count": null,
      "id": "8f3bb0b8",
      "metadata": {
        "id": "8f3bb0b8"
      },
      "outputs": [],
      "source": [
        "train_set, test_set = train_test_split(df_numonly, test_size=0.2 , random_state=42) "
      ]
    },
    {
      "cell_type": "code",
      "execution_count": null,
      "id": "c8d713ea",
      "metadata": {
        "id": "c8d713ea",
        "outputId": "bb29bb99-92b7-4f52-8eff-860bec1df43c",
        "colab": {
          "base_uri": "https://localhost:8080/"
        }
      },
      "outputs": [
        {
          "output_type": "stream",
          "name": "stdout",
          "text": [
            "Rows in train set: 36422 \n",
            "Rows in test set: 9106 \n"
          ]
        }
      ],
      "source": [
        "print(f\"Rows in train set: {len(train_set)} \\nRows in test set: {len(test_set)} \")"
      ]
    },
    {
      "cell_type": "markdown",
      "id": "35417b21",
      "metadata": {
        "id": "35417b21"
      },
      "source": [
        "## Stratified Shuffled Split"
      ]
    },
    {
      "cell_type": "markdown",
      "id": "64f3cd27",
      "metadata": {
        "id": "64f3cd27"
      },
      "source": [
        "here i am taking both prev_defaults and default_in_last_6months as important feature for stratified shuffled split"
      ]
    },
    {
      "cell_type": "code",
      "execution_count": null,
      "id": "a334e2dc",
      "metadata": {
        "id": "a334e2dc",
        "outputId": "4354b3db-e928-4814-e300-13a2d6894437",
        "colab": {
          "base_uri": "https://localhost:8080/",
          "height": 235
        }
      },
      "outputs": [
        {
          "output_type": "error",
          "ename": "NameError",
          "evalue": "ignored",
          "traceback": [
            "\u001b[0;31m---------------------------------------------------------------------------\u001b[0m",
            "\u001b[0;31mNameError\u001b[0m                                 Traceback (most recent call last)",
            "\u001b[0;32m<ipython-input-14-d2cf0453b1c5>\u001b[0m in \u001b[0;36m<module>\u001b[0;34m()\u001b[0m\n\u001b[1;32m      1\u001b[0m \u001b[0;32mfrom\u001b[0m \u001b[0msklearn\u001b[0m\u001b[0;34m.\u001b[0m\u001b[0mmodel_selection\u001b[0m \u001b[0;32mimport\u001b[0m \u001b[0mStratifiedShuffleSplit\u001b[0m\u001b[0;34m\u001b[0m\u001b[0;34m\u001b[0m\u001b[0m\n\u001b[1;32m      2\u001b[0m \u001b[0mStratifiedShuffleSplit\u001b[0m\u001b[0;34m(\u001b[0m\u001b[0mn_splits\u001b[0m\u001b[0;34m=\u001b[0m\u001b[0;36m1\u001b[0m\u001b[0;34m,\u001b[0m \u001b[0mtest_size\u001b[0m\u001b[0;34m=\u001b[0m\u001b[0;36m0.2\u001b[0m\u001b[0;34m,\u001b[0m \u001b[0mrandom_state\u001b[0m\u001b[0;34m=\u001b[0m\u001b[0;36m42\u001b[0m\u001b[0;34m)\u001b[0m\u001b[0;34m\u001b[0m\u001b[0;34m\u001b[0m\u001b[0m\n\u001b[0;32m----> 3\u001b[0;31m \u001b[0;32mfor\u001b[0m \u001b[0mtrain_index\u001b[0m\u001b[0;34m,\u001b[0m\u001b[0mtest_index\u001b[0m \u001b[0;32min\u001b[0m \u001b[0msplit\u001b[0m\u001b[0;34m(\u001b[0m\u001b[0mdf_numonly\u001b[0m\u001b[0;34m,\u001b[0m \u001b[0mdf_numonly\u001b[0m\u001b[0;34m[\u001b[0m\u001b[0;34m'default_in_last_6months'\u001b[0m\u001b[0;34m]\u001b[0m\u001b[0;34m)\u001b[0m\u001b[0;34m:\u001b[0m\u001b[0;34m\u001b[0m\u001b[0;34m\u001b[0m\u001b[0m\n\u001b[0m\u001b[1;32m      4\u001b[0m     \u001b[0mstrat_train_set\u001b[0m\u001b[0;34m=\u001b[0m\u001b[0mdf_numonly\u001b[0m\u001b[0;34m.\u001b[0m\u001b[0mloc\u001b[0m\u001b[0;34m[\u001b[0m\u001b[0mtrain_index\u001b[0m\u001b[0;34m]\u001b[0m\u001b[0;34m\u001b[0m\u001b[0;34m\u001b[0m\u001b[0m\n\u001b[1;32m      5\u001b[0m     \u001b[0mstrat_test_set\u001b[0m\u001b[0;34m=\u001b[0m\u001b[0mdf_numonly\u001b[0m\u001b[0;34m.\u001b[0m\u001b[0mloc\u001b[0m\u001b[0;34m[\u001b[0m\u001b[0mtest_index\u001b[0m\u001b[0;34m]\u001b[0m\u001b[0;34m\u001b[0m\u001b[0;34m\u001b[0m\u001b[0m\n",
            "\u001b[0;31mNameError\u001b[0m: name 'split' is not defined"
          ]
        }
      ],
      "source": [
        "from sklearn.model_selection import StratifiedShuffleSplit\n",
        "StratifiedShuffleSplit(n_splits=1, test_size=0.2, random_state=42)\n",
        "for train_index,test_index in split(df_numonly, df_numonly['default_in_last_6months']):\n",
        "    strat_train_set=df_numonly.loc[train_index]\n",
        "    strat_test_set=df_numonly.loc[test_index]"
      ]
    },
    {
      "cell_type": "code",
      "execution_count": null,
      "id": "25281f89",
      "metadata": {
        "id": "25281f89",
        "outputId": "f62fb87a-6d35-43d4-86d0-29a80f6e8abd",
        "colab": {
          "base_uri": "https://localhost:8080/",
          "height": 235
        }
      },
      "outputs": [
        {
          "output_type": "error",
          "ename": "NameError",
          "evalue": "ignored",
          "traceback": [
            "\u001b[0;31m---------------------------------------------------------------------------\u001b[0m",
            "\u001b[0;31mNameError\u001b[0m                                 Traceback (most recent call last)",
            "\u001b[0;32m<ipython-input-15-b51d2c0de983>\u001b[0m in \u001b[0;36m<module>\u001b[0;34m()\u001b[0m\n\u001b[1;32m      1\u001b[0m \u001b[0;32mfrom\u001b[0m \u001b[0msklearn\u001b[0m\u001b[0;34m.\u001b[0m\u001b[0mmodel_selection\u001b[0m \u001b[0;32mimport\u001b[0m \u001b[0mStratifiedShuffleSplit\u001b[0m\u001b[0;34m\u001b[0m\u001b[0;34m\u001b[0m\u001b[0m\n\u001b[1;32m      2\u001b[0m \u001b[0mStratifiedShuffleSplit\u001b[0m\u001b[0;34m(\u001b[0m\u001b[0mn_splits\u001b[0m\u001b[0;34m=\u001b[0m\u001b[0;36m1\u001b[0m\u001b[0;34m,\u001b[0m \u001b[0mtest_size\u001b[0m\u001b[0;34m=\u001b[0m\u001b[0;36m0.2\u001b[0m\u001b[0;34m,\u001b[0m \u001b[0mrandom_state\u001b[0m\u001b[0;34m=\u001b[0m\u001b[0;36m42\u001b[0m\u001b[0;34m)\u001b[0m\u001b[0;34m\u001b[0m\u001b[0;34m\u001b[0m\u001b[0m\n\u001b[0;32m----> 3\u001b[0;31m \u001b[0;32mfor\u001b[0m \u001b[0mtrain_index\u001b[0m\u001b[0;34m,\u001b[0m\u001b[0mtest_index\u001b[0m \u001b[0;32min\u001b[0m \u001b[0msplit\u001b[0m\u001b[0;34m.\u001b[0m\u001b[0mSplit\u001b[0m\u001b[0;34m(\u001b[0m\u001b[0mdf_numonly\u001b[0m\u001b[0;34m,\u001b[0m \u001b[0mdf_numonly\u001b[0m\u001b[0;34m[\u001b[0m\u001b[0;34m'prev_defaults'\u001b[0m\u001b[0;34m]\u001b[0m\u001b[0;34m)\u001b[0m\u001b[0;34m:\u001b[0m\u001b[0;34m\u001b[0m\u001b[0;34m\u001b[0m\u001b[0m\n\u001b[0m\u001b[1;32m      4\u001b[0m     \u001b[0mstrat_train_set_2\u001b[0m\u001b[0;34m=\u001b[0m\u001b[0mdf_numonly\u001b[0m\u001b[0;34m.\u001b[0m\u001b[0mloc\u001b[0m\u001b[0;34m[\u001b[0m\u001b[0mtrain_index\u001b[0m\u001b[0;34m]\u001b[0m\u001b[0;34m\u001b[0m\u001b[0;34m\u001b[0m\u001b[0m\n\u001b[1;32m      5\u001b[0m     \u001b[0mstrat_test_set_2\u001b[0m\u001b[0;34m=\u001b[0m\u001b[0mdf_numonly\u001b[0m\u001b[0;34m.\u001b[0m\u001b[0mloc\u001b[0m\u001b[0;34m[\u001b[0m\u001b[0mtest_index\u001b[0m\u001b[0;34m]\u001b[0m\u001b[0;34m\u001b[0m\u001b[0;34m\u001b[0m\u001b[0m\n",
            "\u001b[0;31mNameError\u001b[0m: name 'split' is not defined"
          ]
        }
      ],
      "source": [
        "from sklearn.model_selection import StratifiedShuffleSplit\n",
        "StratifiedShuffleSplit(n_splits=1, test_size=0.2, random_state=42)\n",
        "for train_index,test_index in split.Split(df_numonly, df_numonly['prev_defaults']):\n",
        "    strat_train_set_2=df_numonly.loc[train_index]\n",
        "    strat_test_set_2=df_numonly.loc[test_index]"
      ]
    },
    {
      "cell_type": "code",
      "execution_count": null,
      "id": "cb7c95d3",
      "metadata": {
        "id": "cb7c95d3",
        "outputId": "41c21686-86a2-4c41-d643-710c4e571371"
      },
      "outputs": [
        {
          "ename": "NameError",
          "evalue": "name 'strat_train_set' is not defined",
          "output_type": "error",
          "traceback": [
            "\u001b[1;31m---------------------------------------------------------------------------\u001b[0m",
            "\u001b[1;31mNameError\u001b[0m                                 Traceback (most recent call last)",
            "\u001b[1;32m~\\AppData\\Local\\Temp/ipykernel_21328/1243119914.py\u001b[0m in \u001b[0;36m<module>\u001b[1;34m\u001b[0m\n\u001b[1;32m----> 1\u001b[1;33m \u001b[0mstrat_train_set\u001b[0m\u001b[1;33m.\u001b[0m\u001b[0mdescribe\u001b[0m\u001b[1;33m(\u001b[0m\u001b[1;33m)\u001b[0m\u001b[1;33m\u001b[0m\u001b[1;33m\u001b[0m\u001b[0m\n\u001b[0m",
            "\u001b[1;31mNameError\u001b[0m: name 'strat_train_set' is not defined"
          ]
        }
      ],
      "source": [
        "strat_train_set.describe()"
      ]
    },
    {
      "cell_type": "code",
      "execution_count": null,
      "id": "aebd6252",
      "metadata": {
        "id": "aebd6252",
        "colab": {
          "base_uri": "https://localhost:8080/",
          "height": 165
        },
        "outputId": "86c90b3a-205a-4a83-fe13-8ad567e1ec91"
      },
      "outputs": [
        {
          "output_type": "error",
          "ename": "NameError",
          "evalue": "ignored",
          "traceback": [
            "\u001b[0;31m---------------------------------------------------------------------------\u001b[0m",
            "\u001b[0;31mNameError\u001b[0m                                 Traceback (most recent call last)",
            "\u001b[0;32m<ipython-input-16-99a30c5a66c3>\u001b[0m in \u001b[0;36m<module>\u001b[0;34m()\u001b[0m\n\u001b[0;32m----> 1\u001b[0;31m \u001b[0mstrat_train_set_2\u001b[0m\u001b[0;34m.\u001b[0m\u001b[0mdescribe\u001b[0m\u001b[0;34m(\u001b[0m\u001b[0;34m)\u001b[0m\u001b[0;34m\u001b[0m\u001b[0;34m\u001b[0m\u001b[0m\n\u001b[0m",
            "\u001b[0;31mNameError\u001b[0m: name 'strat_train_set_2' is not defined"
          ]
        }
      ],
      "source": [
        "strat_train_set_2.describe()"
      ]
    },
    {
      "cell_type": "code",
      "execution_count": null,
      "id": "732cd866",
      "metadata": {
        "id": "732cd866"
      },
      "outputs": [],
      "source": [
        "strat_train_set['default_in_last_6months'].value_counts()\n"
      ]
    },
    {
      "cell_type": "code",
      "execution_count": null,
      "id": "4f5022d4",
      "metadata": {
        "id": "4f5022d4"
      },
      "outputs": [],
      "source": [
        "strat_train_set['prev_defaults'].value_counts()"
      ]
    },
    {
      "cell_type": "code",
      "execution_count": null,
      "id": "c96bf612",
      "metadata": {
        "id": "c96bf612"
      },
      "outputs": [],
      "source": [
        "strat_test_set['default_in_last_6months'].value_counts()"
      ]
    },
    {
      "cell_type": "code",
      "execution_count": null,
      "id": "b18f0926",
      "metadata": {
        "id": "b18f0926"
      },
      "outputs": [],
      "source": [
        "strat_test_set['prev_defaults'].value_counts()"
      ]
    },
    {
      "cell_type": "code",
      "execution_count": null,
      "id": "3ffccdef",
      "metadata": {
        "id": "3ffccdef"
      },
      "outputs": [],
      "source": [
        "strat_train_set_2['default_in_last_6months'].value_counts()"
      ]
    },
    {
      "cell_type": "code",
      "execution_count": null,
      "id": "c693f32e",
      "metadata": {
        "id": "c693f32e"
      },
      "outputs": [],
      "source": [
        "strat_train_set_2['prev_defaults'].value_counts()"
      ]
    },
    {
      "cell_type": "code",
      "execution_count": null,
      "id": "c1fbb197",
      "metadata": {
        "id": "c1fbb197"
      },
      "outputs": [],
      "source": [
        "strat_test_set_2['default_in_last_6months'].value_counts()"
      ]
    },
    {
      "cell_type": "code",
      "execution_count": null,
      "id": "651e2af1",
      "metadata": {
        "id": "651e2af1"
      },
      "outputs": [],
      "source": [
        "strat_test_set_2['prev_defaults'].value_counts()"
      ]
    },
    {
      "cell_type": "markdown",
      "id": "3b5e40c3",
      "metadata": {
        "id": "3b5e40c3"
      },
      "source": [
        "changing the df_numonly to train set only"
      ]
    },
    {
      "cell_type": "code",
      "execution_count": null,
      "id": "7adb8bd7",
      "metadata": {
        "id": "7adb8bd7"
      },
      "outputs": [],
      "source": [
        "df_numonly=strat_train_set_2.copy()\n",
        "df_numonly.describe()"
      ]
    },
    {
      "cell_type": "markdown",
      "id": "1a7ab5cc",
      "metadata": {
        "id": "1a7ab5cc"
      },
      "source": [
        "in this step i am droping the last coulmn as it is the the desired output"
      ]
    },
    {
      "cell_type": "code",
      "execution_count": null,
      "id": "af70b723",
      "metadata": {
        "id": "af70b723"
      },
      "outputs": [],
      "source": [
        "df=strat_train_set_2.drop('credit_card_default', axis=1)\n",
        "df_labels=strat_train_set_2['credit_card_default'].copy()"
      ]
    },
    {
      "cell_type": "markdown",
      "id": "aff427bf",
      "metadata": {
        "id": "aff427bf"
      },
      "source": [
        "## Looking for Correlation through Pearson Coefficient\n"
      ]
    },
    {
      "cell_type": "code",
      "execution_count": null,
      "id": "86342f3e",
      "metadata": {
        "id": "86342f3e",
        "colab": {
          "base_uri": "https://localhost:8080/"
        },
        "outputId": "aed58c6b-7e07-4e33-e774-bcc612c0010b"
      },
      "outputs": [
        {
          "output_type": "execute_result",
          "data": {
            "text/plain": [
              "credit_score              -0.543164\n",
              "no_of_days_employed       -0.047043\n",
              "yearly_debt_payments      -0.013089\n",
              "age                       -0.000983\n",
              "total_family_members       0.010754\n",
              "net_yearly_income          0.011508\n",
              "credit_limit               0.012250\n",
              "no_of_children             0.023689\n",
              "migrant_worker             0.034013\n",
              "credit_limit_used(%)       0.326641\n",
              "prev_defaults              0.771704\n",
              "default_in_last_6months    0.776078\n",
              "credit_card_default        1.000000\n",
              "Name: credit_card_default, dtype: float64"
            ]
          },
          "metadata": {},
          "execution_count": 17
        }
      ],
      "source": [
        "corr_matrix= df.corr()\n",
        "corr_matrix['credit_card_default'].sort_values()"
      ]
    },
    {
      "cell_type": "code",
      "execution_count": null,
      "id": "e9cdb4c4",
      "metadata": {
        "id": "e9cdb4c4"
      },
      "outputs": [],
      "source": [
        "#from pandas.plotting import scatter_matrix\n",
        "#attr=['credit_card_default','default_in_last_6months','credit_score','net_yearly_income']\n",
        "#scatter_matrix(df[attr], figsize=(12,8))"
      ]
    },
    {
      "cell_type": "code",
      "execution_count": null,
      "id": "4411d736",
      "metadata": {
        "id": "4411d736"
      },
      "outputs": [],
      "source": [
        "#df.plot(kind='scatter',x='credit_score', y='credit_card_default', alpha=0.8)"
      ]
    },
    {
      "cell_type": "code",
      "execution_count": null,
      "id": "9ccfafd4",
      "metadata": {
        "id": "9ccfafd4"
      },
      "outputs": [],
      "source": [
        "#df.plot(kind='scatter',x='default_in_last_6months', y='credit_card_default', alpha=0.1)"
      ]
    },
    {
      "cell_type": "code",
      "execution_count": null,
      "id": "615c6b23",
      "metadata": {
        "id": "615c6b23"
      },
      "outputs": [],
      "source": [
        "# df.plot(kind='scatter',x='prev_defaults', y='credit_card_default', alpha=0.1)"
      ]
    },
    {
      "cell_type": "code",
      "execution_count": null,
      "id": "ffa04a6b",
      "metadata": {
        "id": "ffa04a6b"
      },
      "outputs": [],
      "source": [
        "# df.plot(kind='scatter',x='credit_limit_used(%)', y='credit_card_default', alpha=0.1)"
      ]
    },
    {
      "cell_type": "code",
      "execution_count": null,
      "id": "20949df8",
      "metadata": {
        "id": "20949df8"
      },
      "outputs": [],
      "source": [
        "from sklearn.impute import SimpleImputer\n",
        "imputer=SimpleImputer(strategy='median')\n",
        "imputer.fit(df_numonly)\n",
        "x=imputer.transform(df_numonly)"
      ]
    },
    {
      "cell_type": "code",
      "execution_count": null,
      "id": "e64bd36e",
      "metadata": {
        "id": "e64bd36e"
      },
      "outputs": [],
      "source": [
        "imputer.statistics_.shape"
      ]
    },
    {
      "cell_type": "markdown",
      "id": "ccf667b1",
      "metadata": {
        "id": "ccf667b1"
      },
      "source": [
        "# #Creating a pipeline"
      ]
    },
    {
      "cell_type": "code",
      "execution_count": null,
      "id": "5f868ca5",
      "metadata": {
        "id": "5f868ca5"
      },
      "outputs": [],
      "source": [
        "df_numonly_tr=pd.DataFrame(x, columns=df_numonly.columns)"
      ]
    },
    {
      "cell_type": "code",
      "execution_count": null,
      "id": "db5315ee",
      "metadata": {
        "id": "db5315ee"
      },
      "outputs": [],
      "source": [
        "df_numonly_tr.describe()"
      ]
    },
    {
      "cell_type": "code",
      "execution_count": null,
      "id": "13828a51",
      "metadata": {
        "id": "13828a51"
      },
      "outputs": [],
      "source": [
        "from sklearn.pipeline import Pipeline\n",
        "from sklearn.preprocessing import StandardScaler\n",
        "from sklearn.impute import SimpleImputer\n",
        "my_pipeline=Pipeline([\n",
        "    ('imputer',SimpleImputer(strategy='median')),\n",
        "    ('std_scaler',StandardScaler())\n",
        "])\n",
        "df_numonly_tr= my_pipeline.fit_transform(df_numonly)\n",
        "df_numonly_tr.shape\n"
      ]
    },
    {
      "cell_type": "markdown",
      "id": "7368014b",
      "metadata": {
        "id": "7368014b"
      },
      "source": [
        "## Selecting desired model for Problem"
      ]
    },
    {
      "cell_type": "code",
      "execution_count": null,
      "id": "2b92048d",
      "metadata": {
        "id": "2b92048d",
        "outputId": "660816b5-6c8f-4ca6-e107-ec576fb826eb"
      },
      "outputs": [
        {
          "ename": "NameError",
          "evalue": "name 'df_numonly_tr' is not defined",
          "output_type": "error",
          "traceback": [
            "\u001b[1;31m---------------------------------------------------------------------------\u001b[0m",
            "\u001b[1;31mNameError\u001b[0m                                 Traceback (most recent call last)",
            "\u001b[1;32m~\\AppData\\Local\\Temp/ipykernel_21328/866583285.py\u001b[0m in \u001b[0;36m<module>\u001b[1;34m\u001b[0m\n\u001b[0;32m      5\u001b[0m \u001b[1;31m#model=DecisionTreeRegressor()\u001b[0m\u001b[1;33m\u001b[0m\u001b[1;33m\u001b[0m\u001b[1;33m\u001b[0m\u001b[0m\n\u001b[0;32m      6\u001b[0m \u001b[1;31m#model=RandomForestRegressor()\u001b[0m\u001b[1;33m\u001b[0m\u001b[1;33m\u001b[0m\u001b[1;33m\u001b[0m\u001b[0m\n\u001b[1;32m----> 7\u001b[1;33m \u001b[0mmodel\u001b[0m\u001b[1;33m.\u001b[0m\u001b[0mfit\u001b[0m\u001b[1;33m(\u001b[0m\u001b[0mdf_numonly_tr\u001b[0m\u001b[1;33m,\u001b[0m \u001b[0mdf_labels\u001b[0m\u001b[1;33m)\u001b[0m\u001b[1;33m\u001b[0m\u001b[1;33m\u001b[0m\u001b[0m\n\u001b[0m",
            "\u001b[1;31mNameError\u001b[0m: name 'df_numonly_tr' is not defined"
          ]
        }
      ],
      "source": [
        "from sklearn.linear_model import LogisticRegression\n",
        "from sklearn.tree import DecisionTreeRegressor\n",
        "from sklearn.ensemble import RandomForestRegressor\n",
        "model=LogisticRegression()\n",
        "#model=DecisionTreeRegressor()\n",
        "#model=RandomForestRegressor()\n",
        "model.fit(df_numonly_tr, df_labels)"
      ]
    },
    {
      "cell_type": "code",
      "execution_count": null,
      "id": "3bf915b0",
      "metadata": {
        "id": "3bf915b0"
      },
      "outputs": [],
      "source": [
        "some_data=df_numonly.iloc[:5]"
      ]
    },
    {
      "cell_type": "code",
      "execution_count": null,
      "id": "bc7e95c1",
      "metadata": {
        "id": "bc7e95c1"
      },
      "outputs": [],
      "source": [
        "some_labels=df_labels.iloc[:5]"
      ]
    },
    {
      "cell_type": "code",
      "execution_count": null,
      "id": "82483429",
      "metadata": {
        "id": "82483429"
      },
      "outputs": [],
      "source": [
        "prepared_data=my_pipeline.transform(some_data)"
      ]
    },
    {
      "cell_type": "code",
      "execution_count": null,
      "id": "68be0e38",
      "metadata": {
        "id": "68be0e38"
      },
      "outputs": [],
      "source": [
        "model.predict(prepared_data)"
      ]
    },
    {
      "cell_type": "code",
      "execution_count": null,
      "id": "ad634900",
      "metadata": {
        "id": "ad634900"
      },
      "outputs": [],
      "source": [
        "list(some_labels)"
      ]
    },
    {
      "cell_type": "markdown",
      "id": "bf7f18d5",
      "metadata": {
        "id": "bf7f18d5"
      },
      "source": [
        "# Evaluation of Model"
      ]
    },
    {
      "cell_type": "code",
      "execution_count": null,
      "id": "8bca02b9",
      "metadata": {
        "id": "8bca02b9"
      },
      "outputs": [],
      "source": [
        "import numpy as np\n",
        "from sklearn.metrics import mean_squared_error\n",
        "df_predictions=model.predict(df_numonly_tr)\n",
        "mse=mean_squared_error(df_labels,df_predictions)\n",
        "rmse=np.sqrt(lin_mse)"
      ]
    },
    {
      "cell_type": "code",
      "execution_count": null,
      "id": "1035ff4f",
      "metadata": {
        "id": "1035ff4f"
      },
      "outputs": [],
      "source": [
        "mse"
      ]
    },
    {
      "cell_type": "code",
      "execution_count": null,
      "id": "d2a20fd9",
      "metadata": {
        "id": "d2a20fd9"
      },
      "outputs": [],
      "source": [
        "rmse"
      ]
    },
    {
      "cell_type": "markdown",
      "id": "dc73593a",
      "metadata": {
        "id": "dc73593a"
      },
      "source": [
        "Using Better Evaluation Technique - Cross Validation"
      ]
    },
    {
      "cell_type": "code",
      "execution_count": null,
      "id": "c4310c99",
      "metadata": {
        "id": "c4310c99"
      },
      "outputs": [],
      "source": [
        "from sklearn.model_selection import cross_val_score\n",
        "scores=cross_val_score(model, df_numonly_tr, df_labels, scoring='neg_mean_squared_error',cv=10)\n",
        "rmse_scores=np.sqrt(-scores)"
      ]
    },
    {
      "cell_type": "code",
      "execution_count": null,
      "id": "5c5de5c3",
      "metadata": {
        "id": "5c5de5c3"
      },
      "outputs": [],
      "source": [
        "rmse_scores"
      ]
    },
    {
      "cell_type": "code",
      "execution_count": null,
      "id": "e1c0eca0",
      "metadata": {
        "id": "e1c0eca0"
      },
      "outputs": [],
      "source": [
        "def print_scores(scores):\n",
        "    print('scores:',scores)\n",
        "    print('mean:',scores.mean())\n",
        "    print('std deviation:', scores.std())"
      ]
    },
    {
      "cell_type": "code",
      "execution_count": null,
      "id": "a6bd1196",
      "metadata": {
        "id": "a6bd1196"
      },
      "outputs": [],
      "source": [
        "print_scores(rmse_scores)"
      ]
    },
    {
      "cell_type": "markdown",
      "id": "f8e7afa9",
      "metadata": {
        "id": "f8e7afa9"
      },
      "source": [
        "output from different model\n",
        "linear regression\n",
        "mean: 6.063242317271488e-16\n",
        "std deviation: 1.0323311314551969e-16\n",
        "decision tree regressor\n",
        "mean: 0.0\n",
        "std deviation: 0.0\n",
        "RandomForestRegressor\n",
        "mean: 0.0\n",
        "std deviation: 0.0"
      ]
    },
    {
      "cell_type": "code",
      "execution_count": null,
      "id": "66df1781",
      "metadata": {
        "id": "66df1781"
      },
      "outputs": [],
      "source": [
        ""
      ]
    }
  ],
  "metadata": {
    "kernelspec": {
      "display_name": "Python 3 (ipykernel)",
      "language": "python",
      "name": "python3"
    },
    "language_info": {
      "codemirror_mode": {
        "name": "ipython",
        "version": 3
      },
      "file_extension": ".py",
      "mimetype": "text/x-python",
      "name": "python",
      "nbconvert_exporter": "python",
      "pygments_lexer": "ipython3",
      "version": "3.9.6"
    },
    "colab": {
      "name": "Credit card Default Analysis.ipynb",
      "provenance": [],
      "include_colab_link": true
    }
  },
  "nbformat": 4,
  "nbformat_minor": 5
}